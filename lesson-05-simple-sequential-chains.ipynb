{
 "cells": [
  {
   "cell_type": "markdown",
   "id": "99356128-50d6-4d28-b23a-7423a479a7f1",
   "metadata": {},
   "source": [
    "# Simple Sequential Chains"
   ]
  },
  {
   "cell_type": "code",
   "execution_count": 1,
   "id": "e0803d10-8b6b-4b9e-a755-fc07c9609a99",
   "metadata": {},
   "outputs": [],
   "source": [
    "import os"
   ]
  },
  {
   "cell_type": "code",
   "execution_count": 10,
   "id": "f7d7a464-0d7a-47b1-bf11-c86b120e1f33",
   "metadata": {},
   "outputs": [],
   "source": [
    "os.environ[\"OPENAI_API_KEY\"] = \"\""
   ]
  },
  {
   "cell_type": "code",
   "execution_count": 3,
   "id": "f5b93a02-28ef-4623-ba8b-1bd18bb01a41",
   "metadata": {},
   "outputs": [],
   "source": [
    "from langchain import OpenAI, LLMChain, PromptTemplate\n",
    "from langchain.chains import SimpleSequentialChain"
   ]
  },
  {
   "cell_type": "markdown",
   "id": "b2510cdc-341f-48bd-99f6-d95ba7c8b3e1",
   "metadata": {},
   "source": [
    "### Define LLM"
   ]
  },
  {
   "cell_type": "code",
   "execution_count": 4,
   "id": "2bc07dbb-f3f5-43c8-970b-0b15760e8d96",
   "metadata": {},
   "outputs": [
    {
     "name": "stderr",
     "output_type": "stream",
     "text": [
      "/tmp/ipykernel_685356/3183534344.py:1: LangChainDeprecationWarning: The class `OpenAI` was deprecated in LangChain 0.0.10 and will be removed in 1.0. An updated version of the class exists in the :class:`~langchain-openai package and should be used instead. To use it run `pip install -U :class:`~langchain-openai` and import as `from :class:`~langchain_openai import OpenAI``.\n",
      "  llm = OpenAI(temperature=0)\n"
     ]
    }
   ],
   "source": [
    "llm = OpenAI(temperature=0)"
   ]
  },
  {
   "cell_type": "markdown",
   "id": "bec69670-1ef4-44a1-9fd7-95f51cf3d94b",
   "metadata": {},
   "source": [
    "### First Template"
   ]
  },
  {
   "cell_type": "code",
   "execution_count": 5,
   "id": "310de709-b18c-4110-959b-76fd5c3be3ec",
   "metadata": {},
   "outputs": [
    {
     "name": "stderr",
     "output_type": "stream",
     "text": [
      "/tmp/ipykernel_685356/3522061326.py:3: LangChainDeprecationWarning: The class `LLMChain` was deprecated in LangChain 0.1.17 and will be removed in 1.0. Use :meth:`~RunnableSequence, e.g., `prompt | llm`` instead.\n",
      "  first_chain = LLMChain(llm=llm, prompt=first_prompt)\n"
     ]
    }
   ],
   "source": [
    "first_template = \"What is a good name for a company that makes {product}?\"\n",
    "first_prompt = PromptTemplate.from_template(first_template)\n",
    "first_chain = LLMChain(llm=llm, prompt=first_prompt)"
   ]
  },
  {
   "cell_type": "code",
   "execution_count": 6,
   "id": "b602c9dd-1764-4ef7-9fb8-97431ea14b55",
   "metadata": {},
   "outputs": [
    {
     "name": "stderr",
     "output_type": "stream",
     "text": [
      "/tmp/ipykernel_685356/2125213021.py:1: LangChainDeprecationWarning: The method `Chain.run` was deprecated in langchain 0.1.0 and will be removed in 1.0. Use :meth:`~invoke` instead.\n",
      "  print(first_chain.run(\"colorful socks\"))\n"
     ]
    },
    {
     "name": "stdout",
     "output_type": "stream",
     "text": [
      "\n",
      "\n",
      "\"Rainbow Threads\" or \"Vibrant Socks Co.\"\n"
     ]
    }
   ],
   "source": [
    "print(first_chain.run(\"colorful socks\"))"
   ]
  },
  {
   "cell_type": "markdown",
   "id": "ba210363-45b6-45a2-8ef8-02124316bc55",
   "metadata": {},
   "source": [
    "### Second Template"
   ]
  },
  {
   "cell_type": "code",
   "execution_count": 7,
   "id": "2f3e4a57-1435-4bb8-987c-7b2d226d1366",
   "metadata": {},
   "outputs": [],
   "source": [
    "second_template = \"Write a catch phrase for the following company: {company_name}\"\n",
    "second_prompt = PromptTemplate.from_template(second_template)\n",
    "second_chain = LLMChain(llm=llm, prompt=second_prompt)"
   ]
  },
  {
   "cell_type": "code",
   "execution_count": 8,
   "id": "8c0d4c87-a3e9-4710-8b42-6f63213b6509",
   "metadata": {},
   "outputs": [],
   "source": [
    "#print(second_chain.run(\"colorful socks\"))\n",
    "#print(second_chain.run(\"ABC Startup\"))"
   ]
  },
  {
   "cell_type": "markdown",
   "id": "0ea1c991-5850-4159-9a56-d722c35f8cf9",
   "metadata": {},
   "source": [
    "### Overall Chain"
   ]
  },
  {
   "cell_type": "code",
   "execution_count": 9,
   "id": "729a66c2-476d-4682-aaee-cb9398f8453d",
   "metadata": {},
   "outputs": [
    {
     "name": "stdout",
     "output_type": "stream",
     "text": [
      "\n",
      "\n",
      "\u001b[1m> Entering new SimpleSequentialChain chain...\u001b[0m\n",
      "\u001b[36;1m\u001b[1;3m\n",
      "\n",
      "\"Rainbow Threads\" or \"Vibrant Socks Co.\"\u001b[0m\n",
      "\u001b[33;1m\u001b[1;3m\n",
      "\n",
      "\"Step into a world of color with Rainbow Threads!\" \n",
      "\"Add a pop of color to your step with Vibrant Socks Co.!\"\u001b[0m\n",
      "\n",
      "\u001b[1m> Finished chain.\u001b[0m\n",
      "\n",
      "\n",
      "\"Step into a world of color with Rainbow Threads!\" \n",
      "\"Add a pop of color to your step with Vibrant Socks Co.!\"\n"
     ]
    }
   ],
   "source": [
    "overall_chain = SimpleSequentialChain(chains=[first_chain, second_chain], verbose=True)\n",
    "catchphrase = overall_chain.run(\"colorful socks\")\n",
    "print(catchphrase)"
   ]
  }
 ],
 "metadata": {
  "kernelspec": {
   "display_name": "Python [conda env:py3_ml] *",
   "language": "python",
   "name": "conda-env-py3_ml-py"
  },
  "language_info": {
   "codemirror_mode": {
    "name": "ipython",
    "version": 3
   },
   "file_extension": ".py",
   "mimetype": "text/x-python",
   "name": "python",
   "nbconvert_exporter": "python",
   "pygments_lexer": "ipython3",
   "version": "3.12.9"
  }
 },
 "nbformat": 4,
 "nbformat_minor": 5
}
