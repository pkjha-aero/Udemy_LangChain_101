{
 "cells": [
  {
   "cell_type": "markdown",
   "id": "5abc55f9-203c-4907-a40b-8a37b14d5f2c",
   "metadata": {},
   "source": [
    "# Document Loading and QA Retrieval"
   ]
  },
  {
   "cell_type": "markdown",
   "id": "ebe7eac6-8c65-485d-9f6d-9ceda7aaaf17",
   "metadata": {},
   "source": [
    "### Imports"
   ]
  },
  {
   "cell_type": "code",
   "execution_count": 1,
   "id": "dc1decb6-11cf-46da-9b4b-05e8b7d9337a",
   "metadata": {},
   "outputs": [],
   "source": [
    "import os\n",
    "#os.environ[\"OPENAI_API_KEY\"] = \"...\""
   ]
  },
  {
   "cell_type": "code",
   "execution_count": 3,
   "id": "d1c81871-0e3e-4e37-b37c-a77f6d6979e1",
   "metadata": {},
   "outputs": [],
   "source": [
    "from langchain import OpenAI\n",
    "from langchain.document_loaders import TextLoader\n",
    "from langchain.text_splitter import RecursiveCharacterTextSplitter\n",
    "from langchain.embeddings.openai import OpenAIEmbeddings\n",
    "from langchain.vectorstores import Chroma # Vector DB\n",
    "from langchain.chains import RetrievalQA"
   ]
  },
  {
   "cell_type": "markdown",
   "id": "00a92e84-fc59-470e-84aa-7df6463a1032",
   "metadata": {},
   "source": [
    "### Loader and Documents"
   ]
  },
  {
   "cell_type": "code",
   "execution_count": 4,
   "id": "8c5b3bd3-f997-427f-ab3f-95d95eb61fd2",
   "metadata": {},
   "outputs": [],
   "source": [
    "loader = TextLoader(\"./state-of-the-union-23.txt\")\n",
    "documents = loader.load()"
   ]
  },
  {
   "cell_type": "markdown",
   "id": "90efc53e-2eb7-4e65-a0f6-fbd6120e8dec",
   "metadata": {},
   "source": [
    "### Text Splitter"
   ]
  },
  {
   "cell_type": "code",
   "execution_count": 5,
   "id": "42e908e4-a1c8-47dd-8ff5-bcc96dcf4c0b",
   "metadata": {},
   "outputs": [],
   "source": [
    "text_splitter = RecursiveCharacterTextSplitter(chunk_size=1000, chunk_overlap=200)\n",
    "texts = text_splitter.split_documents(documents)"
   ]
  },
  {
   "cell_type": "markdown",
   "id": "43d3078a-a437-4544-aaff-5ee48fcd40f1",
   "metadata": {},
   "source": [
    "### Embeddings and Store"
   ]
  },
  {
   "cell_type": "code",
   "execution_count": 6,
   "id": "9773fc0c-1248-46ed-8a44-b49e6eadcc19",
   "metadata": {},
   "outputs": [
    {
     "name": "stderr",
     "output_type": "stream",
     "text": [
      "/tmp/ipykernel_36935/44522523.py:1: LangChainDeprecationWarning: The class `OpenAIEmbeddings` was deprecated in LangChain 0.0.9 and will be removed in 1.0. An updated version of the class exists in the :class:`~langchain-openai package and should be used instead. To use it run `pip install -U :class:`~langchain-openai` and import as `from :class:`~langchain_openai import OpenAIEmbeddings``.\n",
      "  embeddings = OpenAIEmbeddings()\n"
     ]
    }
   ],
   "source": [
    "embeddings = OpenAIEmbeddings()\n",
    "store = Chroma.from_documents(texts, embeddings, collection_name=\"state-of-union\")"
   ]
  },
  {
   "cell_type": "markdown",
   "id": "4163dc54-dd7a-4be2-aa3f-c21b5a62d7b5",
   "metadata": {},
   "source": [
    "### LLM and Chain"
   ]
  },
  {
   "cell_type": "code",
   "execution_count": 7,
   "id": "7c7c58cf-6204-464e-a10b-571daf382863",
   "metadata": {},
   "outputs": [
    {
     "name": "stderr",
     "output_type": "stream",
     "text": [
      "/tmp/ipykernel_36935/972788846.py:1: LangChainDeprecationWarning: The class `OpenAI` was deprecated in LangChain 0.0.10 and will be removed in 1.0. An updated version of the class exists in the :class:`~langchain-openai package and should be used instead. To use it run `pip install -U :class:`~langchain-openai` and import as `from :class:`~langchain_openai import OpenAI``.\n",
      "  llm = OpenAI(temperature=0)\n"
     ]
    }
   ],
   "source": [
    "llm = OpenAI(temperature=0)\n",
    "chain = RetrievalQA.from_chain_type(llm, retriever=store.as_retriever())"
   ]
  },
  {
   "cell_type": "code",
   "execution_count": 8,
   "id": "11abc233-adc6-42c6-aa3a-55201838f2bf",
   "metadata": {},
   "outputs": [
    {
     "name": "stderr",
     "output_type": "stream",
     "text": [
      "/tmp/ipykernel_36935/1563137173.py:1: LangChainDeprecationWarning: The method `Chain.run` was deprecated in langchain 0.1.0 and will be removed in 1.0. Use :meth:`~invoke` instead.\n",
      "  print(chain.run(\"What did biden talk about Ohio?\"))\n"
     ]
    },
    {
     "name": "stdout",
     "output_type": "stream",
     "text": [
      " Biden talked about the Brent Spence bridge project in Ohio and the new Intel semiconductor factories being built in Ohio.\n"
     ]
    }
   ],
   "source": [
    "print(chain.run(\"What did biden talk about Ohio?\"))"
   ]
  },
  {
   "cell_type": "code",
   "execution_count": 9,
   "id": "300fb17d-2283-498a-b1ae-3e38268033f4",
   "metadata": {},
   "outputs": [
    {
     "name": "stdout",
     "output_type": "stream",
     "text": [
      " Biden talked about competing with China, investing in American innovation, and working with allies to protect advanced technologies from being used against the US. He also mentioned seeking competition, not conflict, with China and investing in alliances to protect against threats to sovereignty.\n"
     ]
    }
   ],
   "source": [
    "print(chain.run(\"What did biden talk about China?\"))"
   ]
  }
 ],
 "metadata": {
  "kernelspec": {
   "display_name": "Python [conda env:py3_ml] *",
   "language": "python",
   "name": "conda-env-py3_ml-py"
  },
  "language_info": {
   "codemirror_mode": {
    "name": "ipython",
    "version": 3
   },
   "file_extension": ".py",
   "mimetype": "text/x-python",
   "name": "python",
   "nbconvert_exporter": "python",
   "pygments_lexer": "ipython3",
   "version": "3.12.9"
  }
 },
 "nbformat": 4,
 "nbformat_minor": 5
}
