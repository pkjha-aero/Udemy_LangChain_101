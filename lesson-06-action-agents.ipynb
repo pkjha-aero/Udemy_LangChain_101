{
 "cells": [
  {
   "cell_type": "markdown",
   "id": "53ba81c9-1c1f-4fcd-af4c-82e7ffbf1a22",
   "metadata": {},
   "source": [
    "# Action Agents"
   ]
  },
  {
   "cell_type": "code",
   "execution_count": 1,
   "id": "4501d9ca-49fe-4385-bda6-9dea786c31ad",
   "metadata": {},
   "outputs": [],
   "source": [
    "import os"
   ]
  },
  {
   "cell_type": "code",
   "execution_count": 2,
   "id": "df77b886-c03c-4101-b38b-719e6fd0db9e",
   "metadata": {},
   "outputs": [],
   "source": [
    "#os.environ[\"OPENAI_API_KEY\"] = \"...\""
   ]
  },
  {
   "cell_type": "code",
   "execution_count": 4,
   "id": "ddd6b6c0-11ed-4c8d-9ab6-8707dae4bc73",
   "metadata": {},
   "outputs": [],
   "source": [
    "import pprint\n",
    "from langchain.llms import OpenAI\n",
    "from langchain.agents import load_tools, get_all_tool_names, initialize_agent\n",
    "#from langchain_community.agent_toolkits.load_tools import get_all_tool_names"
   ]
  },
  {
   "cell_type": "code",
   "execution_count": 5,
   "id": "0e42358b-5a04-41af-a4f3-57875748d449",
   "metadata": {},
   "outputs": [],
   "source": [
    "prompt = \"When was the 3rd president of the United States born? What is that year raised to the power of 3?\""
   ]
  },
  {
   "cell_type": "code",
   "execution_count": 6,
   "id": "f76eb0d4-987e-4b4e-b6a3-036882536aef",
   "metadata": {},
   "outputs": [
    {
     "name": "stdout",
     "output_type": "stream",
     "text": [
      "[   'sleep',\n",
      "    'wolfram-alpha',\n",
      "    'google-search',\n",
      "    'google-search-results-json',\n",
      "    'searx-search-results-json',\n",
      "    'bing-search',\n",
      "    'metaphor-search',\n",
      "    'ddg-search',\n",
      "    'google-books',\n",
      "    'google-lens',\n",
      "    'google-serper',\n",
      "    'google-scholar',\n",
      "    'google-finance',\n",
      "    'google-trends',\n",
      "    'google-jobs',\n",
      "    'google-serper-results-json',\n",
      "    'searchapi',\n",
      "    'searchapi-results-json',\n",
      "    'serpapi',\n",
      "    'dalle-image-generator',\n",
      "    'twilio',\n",
      "    'searx-search',\n",
      "    'merriam-webster',\n",
      "    'wikipedia',\n",
      "    'arxiv',\n",
      "    'golden-query',\n",
      "    'pubmed',\n",
      "    'human',\n",
      "    'awslambda',\n",
      "    'stackexchange',\n",
      "    'sceneXplain',\n",
      "    'graphql',\n",
      "    'openweathermap-api',\n",
      "    'dataforseo-api-search',\n",
      "    'dataforseo-api-search-json',\n",
      "    'eleven_labs_text2speech',\n",
      "    'google_cloud_texttospeech',\n",
      "    'read_file',\n",
      "    'reddit_search',\n",
      "    'news-api',\n",
      "    'tmdb-api',\n",
      "    'podcast-api',\n",
      "    'memorize',\n",
      "    'llm-math',\n",
      "    'open-meteo-api',\n",
      "    'requests',\n",
      "    'requests_get',\n",
      "    'requests_post',\n",
      "    'requests_patch',\n",
      "    'requests_put',\n",
      "    'requests_delete',\n",
      "    'terminal']\n"
     ]
    }
   ],
   "source": [
    "pp = pprint.PrettyPrinter(indent = 4)\n",
    "pp.pprint(get_all_tool_names())"
   ]
  },
  {
   "cell_type": "markdown",
   "id": "ae5700d8-a31e-4b4f-ac91-34ccd7529e0d",
   "metadata": {},
   "source": [
    "### Define LLM"
   ]
  },
  {
   "cell_type": "code",
   "execution_count": 7,
   "id": "f2cfd545-e21f-4c85-8406-ae684b6ead9f",
   "metadata": {},
   "outputs": [
    {
     "name": "stderr",
     "output_type": "stream",
     "text": [
      "/tmp/ipykernel_695221/3183534344.py:1: LangChainDeprecationWarning: The class `OpenAI` was deprecated in LangChain 0.0.10 and will be removed in 1.0. An updated version of the class exists in the :class:`~langchain-openai package and should be used instead. To use it run `pip install -U :class:`~langchain-openai` and import as `from :class:`~langchain_openai import OpenAI``.\n",
      "  llm = OpenAI(temperature=0)\n"
     ]
    }
   ],
   "source": [
    "llm = OpenAI(temperature=0)"
   ]
  },
  {
   "cell_type": "markdown",
   "id": "170d80a8-1a3e-4c46-a4d9-6e9e619ca816",
   "metadata": {},
   "source": [
    "### Define Tools and Agent"
   ]
  },
  {
   "cell_type": "code",
   "execution_count": 8,
   "id": "846404b9-4156-4a82-8db3-adfc57942b8c",
   "metadata": {},
   "outputs": [],
   "source": [
    "tools = load_tools([\"wikipedia\", \"llm-math\"], llm=llm)"
   ]
  },
  {
   "cell_type": "code",
   "execution_count": 9,
   "id": "ce0ddb8b-74fe-41fd-ba4f-5d0123a5611f",
   "metadata": {},
   "outputs": [
    {
     "name": "stderr",
     "output_type": "stream",
     "text": [
      "/tmp/ipykernel_695221/2463128547.py:1: LangChainDeprecationWarning: LangChain agents will continue to be supported, but it is recommended for new use cases to be built with LangGraph. LangGraph offers a more flexible and full-featured framework for building agents, including support for tool-calling, persistence of state, and human-in-the-loop workflows. For details, refer to the `LangGraph documentation <https://langchain-ai.github.io/langgraph/>`_ as well as guides for `Migrating from AgentExecutor <https://python.langchain.com/docs/how_to/migrate_agent/>`_ and LangGraph's `Pre-built ReAct agent <https://langchain-ai.github.io/langgraph/how-tos/create-react-agent/>`_.\n",
      "  agent = initialize_agent(tools, llm, agent=\"zero-shot-react-description\", verbose=True)\n"
     ]
    }
   ],
   "source": [
    "agent = initialize_agent(tools, llm, agent=\"zero-shot-react-description\", verbose=True)"
   ]
  },
  {
   "cell_type": "code",
   "execution_count": 10,
   "id": "6ec38db5-fa2f-44c7-acbb-7a66c8015255",
   "metadata": {},
   "outputs": [
    {
     "name": "stderr",
     "output_type": "stream",
     "text": [
      "/tmp/ipykernel_695221/3410690271.py:1: LangChainDeprecationWarning: The method `Chain.run` was deprecated in langchain 0.1.0 and will be removed in 1.0. Use :meth:`~invoke` instead.\n",
      "  agent.run(prompt)\n"
     ]
    },
    {
     "name": "stdout",
     "output_type": "stream",
     "text": [
      "\n",
      "\n",
      "\u001b[1m> Entering new AgentExecutor chain...\u001b[0m\n",
      "\u001b[32;1m\u001b[1;3m I should use the wikipedia tool to find the birth year of the 3rd president of the United States, and then use the Calculator tool to raise that year to the power of 3.\n",
      "Action: wikipedia\n",
      "Action Input: \"3rd president of the United States\"\u001b[0m\n",
      "Observation: \u001b[36;1m\u001b[1;3mPage: Thomas Jefferson\n",
      "Summary: Thomas Jefferson (April 13 [O.S. April 2], 1743 – July 4, 1826) was an American Founding Father who served as the third president of the United States from 1801 to 1809. He was the primary author of the Declaration of Independence. Following the American Revolutionary War and prior to becoming president in 1801, Jefferson was the nation's first U.S. secretary of state under George Washington and then the nation's second vice president under John Adams. Jefferson was a leading proponent of democracy, republicanism, and natural rights, and he produced formative documents and decisions at the state, national, and international levels. \n",
      "Jefferson was born into the Colony of Virginia's planter class, dependent on slave labor. During the American Revolution, Jefferson represented colonial-era Virginia in the Second Continental Congress, which established the Continental Army during the Revolutionary War and unanimously adopted the Declaration of Independence. Jefferson's advocacy for individual rights, including freedom of thought, speech, and religion, helped shape the ideological foundations of the revolution and inspired the Thirteen Colonies in their fight for independence, culminating in the establishment of the United States as a free and sovereign nation. Jefferson served as the second governor of revolutionary Virginia from 1779 to 1781. In 1785, Congress appointed Jefferson U.S. minister to France, where he served from 1785 to 1789. President Washington then appointed Jefferson the nation's first secretary of state, where he served from 1790 to 1793. During this time, in the early 1790s, Jefferson and political ally James Madison organized the Democratic-Republican Party to oppose the Federalist Party during the formation of the nation's First Party System. Jefferson and Federalist John Adams became both personal friends and political rivals. In the 1796 U.S. presidential election between the two, Jefferson came in second, which made him Adams' vice president under the electoral laws of the time. Four years later, in the 1800 presidential election, Jefferson again challenged Adams and won the presidency. In 1804, Jefferson was reelected overwhelmingly to a second term.\n",
      "As president, Jefferson assertively defended the nation's shipping and trade interests against Barbary pirates and aggressive British trade policies, promoted a western expansionist policy with the Louisiana Purchase, which doubled the nation's geographic size, and was able to reduce military forces and expenditures following successful negotiations with France. In his second presidential term, Jefferson was beset by difficulties at home, including the trial of his former vice president Aaron Burr. In 1807, Jefferson implemented the Embargo Act to defend the nation's industries from British threats to U.S. shipping, limiting foreign trade and stimulating the birth of the American manufacturing industry.\n",
      "Jefferson is ranked among the upper tier of U.S. presidents by both scholars and in public opinion. Presidential scholars and historians have praised Jefferson's advocacy of religious freedom and tolerance, his peaceful acquisition of the Louisiana Territory from France, and his leadership in supporting the Lewis and Clark Expedition. They acknowledge his lifelong ownership of large numbers of slaves, but offer varying interpretations of his views on and relationship with slavery.\n",
      "\n",
      "Page: President pro tempore of the United States Senate\n",
      "Summary: The president pro tempore of the United States Senate (often shortened to president pro tem) is the second-highest-ranking official of the United States Senate, after the vice president. According to Article One, Section Three of the United States Constitution, the vice president of the United States is the president of the Senate (despite not being a senator), and the Senate must choose a president pro tempore to act in the vice president's absence.\n",
      "The president pro tempore is elected \u001b[0m\n",
      "\u001b[32;1m\u001b[1;3m Now that I have the birth year of Thomas Jefferson, I can use the Calculator tool to raise it to the power of 3.\n",
      "Action: Calculator\n",
      "Action Input: 1743^3\u001b[0m\n",
      "Observation: \u001b[33;1m\u001b[1;3mAnswer: 5295319407\u001b[0m\n",
      "\u001b[32;1m\u001b[1;3m I now know the final answer.\n",
      "Final Answer: 5295319407\u001b[0m\n",
      "\n",
      "\u001b[1m> Finished chain.\u001b[0m\n"
     ]
    },
    {
     "data": {
      "text/plain": [
       "'5295319407'"
      ]
     },
     "execution_count": 10,
     "metadata": {},
     "output_type": "execute_result"
    }
   ],
   "source": [
    "agent.run(prompt)"
   ]
  }
 ],
 "metadata": {
  "kernelspec": {
   "display_name": "Python [conda env:py3_ml] *",
   "language": "python",
   "name": "conda-env-py3_ml-py"
  },
  "language_info": {
   "codemirror_mode": {
    "name": "ipython",
    "version": 3
   },
   "file_extension": ".py",
   "mimetype": "text/x-python",
   "name": "python",
   "nbconvert_exporter": "python",
   "pygments_lexer": "ipython3",
   "version": "3.12.9"
  }
 },
 "nbformat": 4,
 "nbformat_minor": 5
}
