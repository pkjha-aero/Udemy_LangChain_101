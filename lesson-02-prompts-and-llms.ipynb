{
 "cells": [
  {
   "cell_type": "markdown",
   "id": "b9a56943-da93-4054-bec8-907213b55743",
   "metadata": {},
   "source": [
    "# Prompts and LLMs"
   ]
  },
  {
   "cell_type": "code",
   "execution_count": 1,
   "id": "af8bc2ad-1409-45a1-8d1d-01fa5b984a68",
   "metadata": {},
   "outputs": [],
   "source": [
    "import os"
   ]
  },
  {
   "cell_type": "code",
   "execution_count": 13,
   "id": "9c811d77-4a7b-4094-bc1e-61a294c61ffa",
   "metadata": {},
   "outputs": [],
   "source": [
    "os.environ[\"OPENAI_API_KEY\"] = \"...\""
   ]
  },
  {
   "cell_type": "code",
   "execution_count": 3,
   "id": "47a8de07-6a5e-4d9a-830e-849e1930fc59",
   "metadata": {},
   "outputs": [],
   "source": [
    "from langchain.llms import OpenAI"
   ]
  },
  {
   "cell_type": "markdown",
   "id": "31a1053b-edcc-4efc-9b1b-98b0c696d888",
   "metadata": {},
   "source": [
    "## Deterministic Response"
   ]
  },
  {
   "cell_type": "code",
   "execution_count": 4,
   "id": "45a6fb69-3fcd-401e-8752-5f28df08d1e8",
   "metadata": {},
   "outputs": [
    {
     "name": "stderr",
     "output_type": "stream",
     "text": [
      "/tmp/ipykernel_604325/3512370483.py:1: LangChainDeprecationWarning: The class `OpenAI` was deprecated in LangChain 0.0.10 and will be removed in 1.0. An updated version of the class exists in the :class:`~langchain-openai package and should be used instead. To use it run `pip install -U :class:`~langchain-openai` and import as `from :class:`~langchain_openai import OpenAI``.\n",
      "  llm = OpenAI(temperature=0) # Default model is text-davinci-003\n"
     ]
    }
   ],
   "source": [
    "llm = OpenAI(temperature=0) # Default model is text-davinci-003"
   ]
  },
  {
   "cell_type": "code",
   "execution_count": 5,
   "id": "d714d465-6de0-4c92-a541-8b87e2c4e46a",
   "metadata": {},
   "outputs": [],
   "source": [
    "prompt = \"What would a good company name be for a company that makes colorful socks?\""
   ]
  },
  {
   "cell_type": "code",
   "execution_count": 6,
   "id": "bd58ed9b-6355-4ac6-8cbe-3538deb3217f",
   "metadata": {},
   "outputs": [
    {
     "name": "stderr",
     "output_type": "stream",
     "text": [
      "/tmp/ipykernel_604325/700263155.py:1: LangChainDeprecationWarning: The method `BaseLLM.__call__` was deprecated in langchain-core 0.1.7 and will be removed in 1.0. Use :meth:`~invoke` instead.\n",
      "  print(llm(prompt))\n"
     ]
    },
    {
     "name": "stdout",
     "output_type": "stream",
     "text": [
      "\n",
      "\n",
      "\"Rainbow Socks Co.\" or \"Vibrant Feet Co.\"\n"
     ]
    }
   ],
   "source": [
    "print(llm(prompt))"
   ]
  },
  {
   "cell_type": "code",
   "execution_count": 7,
   "id": "6059d85a-5851-4b1c-a952-ed452d758a91",
   "metadata": {},
   "outputs": [],
   "source": [
    "result = llm.generate([prompt]*5)"
   ]
  },
  {
   "cell_type": "code",
   "execution_count": 8,
   "id": "afd4dd3b-a184-4b50-98ef-289a46aceef7",
   "metadata": {},
   "outputs": [
    {
     "data": {
      "text/plain": [
       "LLMResult(generations=[[Generation(text='\\n\\n\"Rainbow Socks Co.\" or \"Vibrant Feet Co.\"', generation_info={'finish_reason': 'stop', 'logprobs': None})], [Generation(text='\\n\\n\"Rainbow Socks Co.\" or \"Vibrant Feet Co.\"', generation_info={'finish_reason': 'stop', 'logprobs': None})], [Generation(text='\\n\\n\"Rainbow Socks Co.\" or \"Vibrant Feet Co.\"', generation_info={'finish_reason': 'stop', 'logprobs': None})], [Generation(text='\\n\\n\"Rainbow Socks Co.\" or \"Vibrant Feet Co.\"', generation_info={'finish_reason': 'stop', 'logprobs': None})], [Generation(text='\\n\\n\"Rainbow Socks Co.\" or \"Vibrant Feet Co.\"', generation_info={'finish_reason': 'stop', 'logprobs': None})]], llm_output={'token_usage': {'total_tokens': 160, 'completion_tokens': 85, 'prompt_tokens': 75}, 'model_name': 'gpt-3.5-turbo-instruct'}, run=[RunInfo(run_id=UUID('ae354f17-e084-4ae2-8881-585e902e0cc6')), RunInfo(run_id=UUID('5ed08f8a-bc5e-4abd-912f-143e8de62ff1')), RunInfo(run_id=UUID('46c37e48-05d4-414f-a2b2-f43fe5fe3851')), RunInfo(run_id=UUID('5a6da165-1ced-4794-9d9d-f66de82f9cf8')), RunInfo(run_id=UUID('3071bad1-9301-41e1-b7d3-2dd10ee7d3ce'))], type='LLMResult')"
      ]
     },
     "execution_count": 8,
     "metadata": {},
     "output_type": "execute_result"
    }
   ],
   "source": [
    "result"
   ]
  },
  {
   "cell_type": "code",
   "execution_count": 9,
   "id": "de8abb0b-3c7e-46e1-a417-6f66136e8088",
   "metadata": {},
   "outputs": [
    {
     "name": "stdout",
     "output_type": "stream",
     "text": [
      "\n",
      "\n",
      "\"Rainbow Socks Co.\" or \"Vibrant Feet Co.\"\n",
      "\n",
      "\n",
      "\"Rainbow Socks Co.\" or \"Vibrant Feet Co.\"\n",
      "\n",
      "\n",
      "\"Rainbow Socks Co.\" or \"Vibrant Feet Co.\"\n",
      "\n",
      "\n",
      "\"Rainbow Socks Co.\" or \"Vibrant Feet Co.\"\n",
      "\n",
      "\n",
      "\"Rainbow Socks Co.\" or \"Vibrant Feet Co.\"\n"
     ]
    }
   ],
   "source": [
    "for company_name in result.generations:\n",
    "    print(company_name[0].text)"
   ]
  },
  {
   "cell_type": "markdown",
   "id": "bba0f2fa-dbad-4631-81c0-fb656c388bc5",
   "metadata": {},
   "source": [
    "## Probabilistic Response"
   ]
  },
  {
   "cell_type": "code",
   "execution_count": 10,
   "id": "10874398-83b1-4351-b690-0a39430ca6f6",
   "metadata": {},
   "outputs": [
    {
     "name": "stdout",
     "output_type": "stream",
     "text": [
      "\n",
      "\n",
      "Rainbow Socks Co. or BrightFoot LLC\n",
      "\n",
      "\n",
      "\"Colorful Footwear Co.\"\n",
      "\"Rainbow Socks Inc.\"\n",
      "\"Vibrant Feet Co.\"\n",
      "\"Spectrum Socks Ltd.\"\n",
      "\"Chroma Socks Co.\"\n",
      "\"Colorburst Footwear Co.\"\n",
      "\"Bold Threads Co.\"\n",
      "\"Kaleidosock Co.\"\n",
      "\"Chromatic Soles Inc.\"\n",
      "\"Colorful Steps Co.\"\n",
      "\n",
      "\"Vibrant Sox Co.\" or \"Rainbow Threads\"\n",
      "\n",
      "\n",
      "\"Rainbow Feet Co.\"\n",
      "\n",
      "\n",
      "\"Rainbow Socks Co.\"\n"
     ]
    }
   ],
   "source": [
    "llm = OpenAI(temperature=0.9)\n",
    "result = llm.generate([prompt]*5)\n",
    "for company_name in result.generations:\n",
    "    print(company_name[0].text)"
   ]
  }
 ],
 "metadata": {
  "kernelspec": {
   "display_name": "Python [conda env:py3_ml] *",
   "language": "python",
   "name": "conda-env-py3_ml-py"
  },
  "language_info": {
   "codemirror_mode": {
    "name": "ipython",
    "version": 3
   },
   "file_extension": ".py",
   "mimetype": "text/x-python",
   "name": "python",
   "nbconvert_exporter": "python",
   "pygments_lexer": "ipython3",
   "version": "3.12.9"
  }
 },
 "nbformat": 4,
 "nbformat_minor": 5
}
