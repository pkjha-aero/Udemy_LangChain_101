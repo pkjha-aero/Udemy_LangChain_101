{
 "cells": [
  {
   "cell_type": "markdown",
   "id": "70b9b6b1-4128-4b62-8d25-8d114aea58a8",
   "metadata": {},
   "source": [
    "# Using different models with LangChain"
   ]
  },
  {
   "cell_type": "code",
   "execution_count": 1,
   "id": "7403c01d-6648-44b2-8779-b31421911c51",
   "metadata": {},
   "outputs": [],
   "source": [
    "import os"
   ]
  },
  {
   "cell_type": "code",
   "execution_count": 11,
   "id": "1ee020b3-d342-43d1-a389-cd667a0e73e1",
   "metadata": {},
   "outputs": [],
   "source": [
    "os.environ['OPENAI_API_KEY'] = \"...\""
   ]
  },
  {
   "cell_type": "code",
   "execution_count": 12,
   "id": "1d4915af-ec3a-4e53-a6eb-d126e91c7565",
   "metadata": {},
   "outputs": [],
   "source": [
    "HUGGINGFACEHUB_API_TOKEN = \"...\""
   ]
  },
  {
   "cell_type": "code",
   "execution_count": 4,
   "id": "2c3d1773-1ed9-45c2-88d3-d6f4991c105f",
   "metadata": {},
   "outputs": [],
   "source": [
    "from langchain import HuggingFaceHub"
   ]
  },
  {
   "cell_type": "code",
   "execution_count": 5,
   "id": "ac18e4bf-2eea-49e7-9d5a-23a3056fe1b6",
   "metadata": {},
   "outputs": [],
   "source": [
    "from langchain_huggingface import HuggingFaceEndpoint"
   ]
  },
  {
   "cell_type": "code",
   "execution_count": 6,
   "id": "635de7e3-444a-41cb-8b43-2198186d9bbf",
   "metadata": {},
   "outputs": [],
   "source": [
    "prompt = \"What are good fitness tips?\""
   ]
  },
  {
   "cell_type": "markdown",
   "id": "bf6ee967-f9bd-415c-8ca2-2ca7830975d8",
   "metadata": {},
   "source": [
    "## Temperature = 0.1"
   ]
  },
  {
   "cell_type": "code",
   "execution_count": 7,
   "id": "b1f54c45-4a85-452d-8cc3-b5fd89e547ed",
   "metadata": {},
   "outputs": [
    {
     "name": "stderr",
     "output_type": "stream",
     "text": [
      "WARNING! max_length is not default parameter.\n",
      "                    max_length was transferred to model_kwargs.\n",
      "                    Please make sure that max_length is what you intended.\n"
     ]
    }
   ],
   "source": [
    "llm = HuggingFaceEndpoint(\n",
    "    repo_id=\"google/flan-t5-base\",\n",
    "    task=\"text-generation\", \n",
    "    temperature= 0.1, \n",
    "    max_length= 64, \n",
    "    huggingfacehub_api_token=HUGGINGFACEHUB_API_TOKEN,\n",
    ")"
   ]
  },
  {
   "cell_type": "code",
   "execution_count": 8,
   "id": "a42bffb8-5dbc-4bf3-b742-bf0a729af4cf",
   "metadata": {},
   "outputs": [
    {
     "name": "stderr",
     "output_type": "stream",
     "text": [
      "/tmp/ipykernel_612422/700263155.py:1: LangChainDeprecationWarning: The method `BaseLLM.__call__` was deprecated in langchain-core 0.1.7 and will be removed in 1.0. Use :meth:`~invoke` instead.\n",
      "  print(llm(prompt))\n",
      "/home/pkjha/anaconda3/envs/py3_ml/lib/python3.12/site-packages/huggingface_hub/utils/_deprecation.py:131: FutureWarning: 'post' (from 'huggingface_hub.inference._client') is deprecated and will be removed from version '0.31.0'. Making direct POST requests to the inference server is not supported anymore. Please use task methods instead (e.g. `InferenceClient.chat_completion`). If your use case is not supported, please open an issue in https://github.com/huggingface/huggingface_hub.\n",
      "  warnings.warn(warning_message, FutureWarning)\n"
     ]
    },
    {
     "name": "stdout",
     "output_type": "stream",
     "text": [
      " Here are some tips to help you get started on your fitness journey:\n",
      "\n",
      "1. Set Clear Goals: Having specific, measurable, achievable, relevant, and time-bound (SMART) goals can help you stay motivated and track your progress.\n",
      "\n",
      "2. Find Activities You Enjoy: Choose exercises that you enjoy and that fit your lifestyle. This could be anything from walking, running, swimming, cycling, yoga, or playing a sport.\n",
      "\n",
      "3. Start Slowly: If you're new to exercise, start with low-intensity activities and gradually increase the duration and intensity as your fitness improves.\n",
      "\n",
      "4. Incorporate Strength Training: Include strength training exercises in your routine to build muscle and improve bone density. Aim for at least two strength training sessions per week.\n",
      "\n",
      "5. Stay Hydrated: Drink plenty of water before, during, and after your workouts to stay hydrated and support your body's needs.\n",
      "\n",
      "6. Eat a Balanced Diet: Consume a balanced diet rich in fruits, vegetables, lean proteins, and whole grains to support your fitness goals and overall health.\n",
      "\n",
      "7. Get Enough Rest: Aim for 7-9 hours of sleep per night to allow your body to recover and repair from your workouts.\n",
      "\n",
      "8. Be Consistent: Consistency is key when it comes to fitness. Aim to exercise at least 3-5 times per week to see progress.\n",
      "\n",
      "9. Mix It Up: Incorporate a variety of exercises into your routine to challenge your body and prevent boredom.\n",
      "\n",
      "10. Listen to Your Body: Pay attention to your body's signals and rest when needed. If you feel pain or discomfort, stop and consult a healthcare professional.\n",
      "\n",
      "11. Track Your Progress: Keep a fitness journal or use an app to track your workouts and progress. This can help you stay motivated and make adjustments as needed.\n",
      "\n",
      "12. Make It a Habit: Incorporate fitness into your daily routine and make it a habit. The more you do it, the easier it will become.\n",
      "\n",
      "13. Consider Working with a Trainer: If you're new to fitness or have specific goals, consider working with a certified personal trainer to help you get started and stay on track.\n",
      "\n",
      "14. Stay Accountable: Find a workout buddy or join a fitness group to stay accountable and motivated.\n",
      "\n",
      "15. Be Patient: Remember that fitness is a journey, and progress takes time. Celebrate your small victories and don't be too hard on yourself if you have setbacks.\n"
     ]
    }
   ],
   "source": [
    "print(llm(prompt))"
   ]
  },
  {
   "cell_type": "markdown",
   "id": "18672e12-e80e-4bfe-b77e-e13f1110e4ef",
   "metadata": {},
   "source": [
    "## Temperature = 0.9"
   ]
  },
  {
   "cell_type": "code",
   "execution_count": 9,
   "id": "5bea990d-e344-4ced-8fa0-fc92ec600269",
   "metadata": {},
   "outputs": [
    {
     "name": "stderr",
     "output_type": "stream",
     "text": [
      "WARNING! max_length is not default parameter.\n",
      "                    max_length was transferred to model_kwargs.\n",
      "                    Please make sure that max_length is what you intended.\n"
     ]
    }
   ],
   "source": [
    "llm = HuggingFaceEndpoint(\n",
    "    repo_id=\"google/flan-t5-base\",\n",
    "    task=\"text-generation\", \n",
    "    temperature= 0.9, \n",
    "    max_length= 64, \n",
    "    huggingfacehub_api_token=HUGGINGFACEHUB_API_TOKEN,\n",
    ")"
   ]
  },
  {
   "cell_type": "code",
   "execution_count": 10,
   "id": "bc2941d3",
   "metadata": {},
   "outputs": [
    {
     "name": "stderr",
     "output_type": "stream",
     "text": [
      "/home/pkjha/anaconda3/envs/py3_ml/lib/python3.12/site-packages/huggingface_hub/utils/_deprecation.py:131: FutureWarning: 'post' (from 'huggingface_hub.inference._client') is deprecated and will be removed from version '0.31.0'. Making direct POST requests to the inference server is not supported anymore. Please use task methods instead (e.g. `InferenceClient.chat_completion`). If your use case is not supported, please open an issue in https://github.com/huggingface/huggingface_hub.\n",
      "  warnings.warn(warning_message, FutureWarning)\n"
     ]
    },
    {
     "name": "stdout",
     "output_type": "stream",
     "text": [
      " Here are some tips to help you improve your overall fitness:\n",
      "\n",
      "1. Set Clear Goals: Having specific, measurable, achievable, relevant, and time-bound (SMART) goals can help keep you motivated and focused.\n",
      "\n",
      "2. Create a Schedule: Establish a consistent workout routine that works with your schedule. Consistency is key to seeing progress.\n",
      "\n",
      "3. Incorporate a Variety of Exercises: Mix up your workouts to target different muscle groups and prevent boredom. Consider incorporating strength training, cardio, and flexibility exercises.\n",
      "\n",
      "4. Warm Up and Cool Down: Always start your workout with a warm-up to prepare your muscles and prevent injury. Cool down with stretching to improve flexibility and aid recovery.\n",
      "\n",
      "5. Maintain a Balanced Diet: Eating a balanced diet rich in fruits, vegetables, lean proteins, and whole grains can support your fitness goals and provide the energy you need to perform at your best.\n",
      "\n",
      "6. Stay Hydrated: Drink plenty of water before, during, and after your workouts to stay hydrated and support your body's recovery.\n",
      "\n",
      "7. Get Enough Rest: Aim for 7-9 hours of sleep per night to allow your body to recover and rebuild muscle.\n",
      "\n",
      "8. Track Your Progress: Keep track of your workouts and progress to stay motivated and make adjustments as needed.\n",
      "\n",
      "9. Incorporate High-Intensity Interval Training (HIIT): HIIT workouts can help you burn more calories in less time and improve your cardiovascular health.\n",
      "\n",
      "10. Stay Accountable: Consider working out with a friend or joining a group fitness class to stay accountable and motivated.\n",
      "\n",
      "11. Listen to Your Body: If you feel pain or discomfort during a workout, take a break or stop to prevent injury. It's important to push yourself, but not to the point of injury.\n",
      "\n",
      "12. Make It a Habit: Consistency is key to seeing progress and making fitness a part of your lifestyle. Try to make fitness a daily habit.\n",
      "\n",
      "13. Incorporate Active Rest: On rest days, consider incorporating low-intensity activities like walking or stretching to aid recovery and maintain a consistent level of activity.\n",
      "\n",
      "14. Find Activities You Enjoy: Choosing activities you enjoy will make it easier to stick to your fitness routine and stay motivated.\n",
      "\n",
      "15. Be Patient and Persistent: Seeing progress takes time, so be patient and persistent. Celebrate small victories along the way and don't give up if you have a setback.\n"
     ]
    }
   ],
   "source": [
    "print(llm(prompt))"
   ]
  },
  {
   "cell_type": "code",
   "execution_count": null,
   "id": "71fec6c4-91bf-4e4c-960a-50c0bfb2b84a",
   "metadata": {},
   "outputs": [],
   "source": []
  }
 ],
 "metadata": {
  "kernelspec": {
   "display_name": "Python [conda env:py3_ml] *",
   "language": "python",
   "name": "conda-env-py3_ml-py"
  },
  "language_info": {
   "codemirror_mode": {
    "name": "ipython",
    "version": 3
   },
   "file_extension": ".py",
   "mimetype": "text/x-python",
   "name": "python",
   "nbconvert_exporter": "python",
   "pygments_lexer": "ipython3",
   "version": "3.12.9"
  }
 },
 "nbformat": 4,
 "nbformat_minor": 5
}
