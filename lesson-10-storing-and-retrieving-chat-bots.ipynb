{
 "cells": [
  {
   "cell_type": "markdown",
   "id": "3f276749-9c8a-49ad-a33a-59ac44b73dd5",
   "metadata": {},
   "source": [
    "# Storing and Retrieving Chat History"
   ]
  },
  {
   "cell_type": "markdown",
   "id": "0c0b535b-8cf5-457c-9362-6ec855828008",
   "metadata": {},
   "source": [
    "### Imports"
   ]
  },
  {
   "cell_type": "code",
   "execution_count": 1,
   "id": "deafb1dd-02bf-44fc-8303-fe19727cb551",
   "metadata": {},
   "outputs": [],
   "source": [
    "import os\n",
    "#os.environ[\"OPENAI_API_KEY\"] = \"...\""
   ]
  },
  {
   "cell_type": "code",
   "execution_count": 3,
   "id": "d133e18e-98b5-44be-9256-bef95444a8bf",
   "metadata": {},
   "outputs": [],
   "source": [
    "from langchain.memory import ChatMessageHistory, ConversationBufferMemory\n",
    "from langchain.schema import messages_from_dict, messages_to_dict\n",
    "from langchain import OpenAI, ConversationChain"
   ]
  },
  {
   "cell_type": "markdown",
   "id": "9024bd81-d059-42d5-916f-a1ee7fb720d2",
   "metadata": {},
   "source": [
    "### Create Chat Message History"
   ]
  },
  {
   "cell_type": "code",
   "execution_count": 4,
   "id": "8e251fd5-8d24-44ed-8d89-d42d935eb991",
   "metadata": {},
   "outputs": [],
   "source": [
    "history = ChatMessageHistory()\n",
    "history.add_user_message(\"hello! let's talk about giraffes\")\n",
    "history.add_ai_message(\"hi! i'm down to talk about giraffes\")"
   ]
  },
  {
   "cell_type": "code",
   "execution_count": 5,
   "id": "8e8ebbf1-9e8e-4231-9a70-7a4161ef15bc",
   "metadata": {},
   "outputs": [
    {
     "data": {
      "text/plain": [
       "InMemoryChatMessageHistory(messages=[HumanMessage(content=\"hello! let's talk about giraffes\", additional_kwargs={}, response_metadata={}), AIMessage(content=\"hi! i'm down to talk about giraffes\", additional_kwargs={}, response_metadata={})])"
      ]
     },
     "execution_count": 5,
     "metadata": {},
     "output_type": "execute_result"
    }
   ],
   "source": [
    "history"
   ]
  },
  {
   "cell_type": "code",
   "execution_count": 6,
   "id": "ab4fd2a6-fadf-4d06-b2be-7f17fe9dc784",
   "metadata": {},
   "outputs": [],
   "source": [
    "dicts = messages_to_dict(history.messages)"
   ]
  },
  {
   "cell_type": "code",
   "execution_count": 7,
   "id": "6111aa96-f92e-44fe-9507-7f4b490864a6",
   "metadata": {},
   "outputs": [
    {
     "data": {
      "text/plain": [
       "[{'type': 'human',\n",
       "  'data': {'content': \"hello! let's talk about giraffes\",\n",
       "   'additional_kwargs': {},\n",
       "   'response_metadata': {},\n",
       "   'type': 'human',\n",
       "   'name': None,\n",
       "   'id': None,\n",
       "   'example': False}},\n",
       " {'type': 'ai',\n",
       "  'data': {'content': \"hi! i'm down to talk about giraffes\",\n",
       "   'additional_kwargs': {},\n",
       "   'response_metadata': {},\n",
       "   'type': 'ai',\n",
       "   'name': None,\n",
       "   'id': None,\n",
       "   'example': False,\n",
       "   'tool_calls': [],\n",
       "   'invalid_tool_calls': [],\n",
       "   'usage_metadata': None}}]"
      ]
     },
     "execution_count": 7,
     "metadata": {},
     "output_type": "execute_result"
    }
   ],
   "source": [
    "dicts"
   ]
  },
  {
   "cell_type": "markdown",
   "id": "424d1e20-4edb-4d11-924f-3e3a8fe4be82",
   "metadata": {},
   "source": [
    "### Chat History with New Messages"
   ]
  },
  {
   "cell_type": "code",
   "execution_count": 8,
   "id": "80e07ee2-a804-4110-a43b-66b4257ad9e4",
   "metadata": {},
   "outputs": [],
   "source": [
    "new_messages = messages_from_dict(dicts)"
   ]
  },
  {
   "cell_type": "code",
   "execution_count": 9,
   "id": "d7d9b5ec-9fb1-41c9-935f-90bdf19bbce5",
   "metadata": {},
   "outputs": [
    {
     "data": {
      "text/plain": [
       "[HumanMessage(content=\"hello! let's talk about giraffes\", additional_kwargs={}, response_metadata={}),\n",
       " AIMessage(content=\"hi! i'm down to talk about giraffes\", additional_kwargs={}, response_metadata={})]"
      ]
     },
     "execution_count": 9,
     "metadata": {},
     "output_type": "execute_result"
    }
   ],
   "source": [
    "new_messages"
   ]
  },
  {
   "cell_type": "code",
   "execution_count": 10,
   "id": "5f08bd07-c734-4a8a-851f-a3fa956fda24",
   "metadata": {},
   "outputs": [
    {
     "name": "stderr",
     "output_type": "stream",
     "text": [
      "/tmp/ipykernel_733031/631048188.py:1: LangChainDeprecationWarning: The class `OpenAI` was deprecated in LangChain 0.0.10 and will be removed in 1.0. An updated version of the class exists in the :class:`~langchain-openai package and should be used instead. To use it run `pip install -U :class:`~langchain-openai` and import as `from :class:`~langchain_openai import OpenAI``.\n",
      "  llm = OpenAI(temperature=0)\n",
      "/tmp/ipykernel_733031/631048188.py:3: LangChainDeprecationWarning: Please see the migration guide at: https://python.langchain.com/docs/versions/migrating_memory/\n",
      "  buffer = ConversationBufferMemory(chat_memory=history)\n"
     ]
    }
   ],
   "source": [
    "llm = OpenAI(temperature=0)\n",
    "history = ChatMessageHistory(messages=new_messages)\n",
    "buffer = ConversationBufferMemory(chat_memory=history)"
   ]
  },
  {
   "cell_type": "code",
   "execution_count": 11,
   "id": "c41d55d9-65f4-4ac2-89b3-114e7b32d38c",
   "metadata": {},
   "outputs": [
    {
     "data": {
      "text/plain": [
       "InMemoryChatMessageHistory(messages=[HumanMessage(content=\"hello! let's talk about giraffes\", additional_kwargs={}, response_metadata={}), AIMessage(content=\"hi! i'm down to talk about giraffes\", additional_kwargs={}, response_metadata={})])"
      ]
     },
     "execution_count": 11,
     "metadata": {},
     "output_type": "execute_result"
    }
   ],
   "source": [
    "history"
   ]
  },
  {
   "cell_type": "code",
   "execution_count": 12,
   "id": "dd124c79-b72b-49ba-a434-93d3226369b9",
   "metadata": {},
   "outputs": [
    {
     "data": {
      "text/plain": [
       "ConversationBufferMemory(chat_memory=InMemoryChatMessageHistory(messages=[HumanMessage(content=\"hello! let's talk about giraffes\", additional_kwargs={}, response_metadata={}), AIMessage(content=\"hi! i'm down to talk about giraffes\", additional_kwargs={}, response_metadata={})]))"
      ]
     },
     "execution_count": 12,
     "metadata": {},
     "output_type": "execute_result"
    }
   ],
   "source": [
    "buffer"
   ]
  },
  {
   "cell_type": "markdown",
   "id": "ffad916b-5a4b-47ab-8c89-7f4015eb9887",
   "metadata": {},
   "source": [
    "### Conversation with Chat History (Buffer)"
   ]
  },
  {
   "cell_type": "code",
   "execution_count": 13,
   "id": "9e03b747-2764-4c29-93d1-397e15d1d591",
   "metadata": {},
   "outputs": [
    {
     "name": "stderr",
     "output_type": "stream",
     "text": [
      "/tmp/ipykernel_733031/3201060039.py:1: LangChainDeprecationWarning: The class `ConversationChain` was deprecated in LangChain 0.2.7 and will be removed in 1.0. Use :meth:`~RunnableWithMessageHistory: https://python.langchain.com/v0.2/api_reference/core/runnables/langchain_core.runnables.history.RunnableWithMessageHistory.html` instead.\n",
      "  conversation = ConversationChain(llm=llm, memory=buffer, verbose=True)\n"
     ]
    },
    {
     "name": "stdout",
     "output_type": "stream",
     "text": [
      "\n",
      "\n",
      "\u001b[1m> Entering new ConversationChain chain...\u001b[0m\n",
      "Prompt after formatting:\n",
      "\u001b[32;1m\u001b[1;3mThe following is a friendly conversation between a human and an AI. The AI is talkative and provides lots of specific details from its context. If the AI does not know the answer to a question, it truthfully says it does not know.\n",
      "\n",
      "Current conversation:\n",
      "Human: hello! let's talk about giraffes\n",
      "AI: hi! i'm down to talk about giraffes\n",
      "Human: what are they?\n",
      "AI:\u001b[0m\n",
      "\n",
      "\u001b[1m> Finished chain.\u001b[0m\n",
      " Giraffes are tall, long-necked mammals that are native to the African savannah. They are the tallest land animals in the world, with adult males reaching heights of up to 18 feet. They have distinctive spotted coats and long, dark tongues that they use to reach leaves on tall trees.\n"
     ]
    }
   ],
   "source": [
    "conversation = ConversationChain(llm=llm, memory=buffer, verbose=True)\n",
    "print(conversation.predict(input=\"what are they?\"))"
   ]
  },
  {
   "cell_type": "code",
   "execution_count": 14,
   "id": "3563c281-570e-42a2-ba59-961d9c97eb4a",
   "metadata": {},
   "outputs": [
    {
     "data": {
      "text/plain": [
       "[HumanMessage(content=\"hello! let's talk about giraffes\", additional_kwargs={}, response_metadata={}),\n",
       " AIMessage(content=\"hi! i'm down to talk about giraffes\", additional_kwargs={}, response_metadata={}),\n",
       " HumanMessage(content='what are they?', additional_kwargs={}, response_metadata={}),\n",
       " AIMessage(content=' Giraffes are tall, long-necked mammals that are native to the African savannah. They are the tallest land animals in the world, with adult males reaching heights of up to 18 feet. They have distinctive spotted coats and long, dark tongues that they use to reach leaves on tall trees.', additional_kwargs={}, response_metadata={})]"
      ]
     },
     "execution_count": 14,
     "metadata": {},
     "output_type": "execute_result"
    }
   ],
   "source": [
    "conversation.memory.chat_memory.messages"
   ]
  }
 ],
 "metadata": {
  "kernelspec": {
   "display_name": "Python [conda env:py3_ml] *",
   "language": "python",
   "name": "conda-env-py3_ml-py"
  },
  "language_info": {
   "codemirror_mode": {
    "name": "ipython",
    "version": 3
   },
   "file_extension": ".py",
   "mimetype": "text/x-python",
   "name": "python",
   "nbconvert_exporter": "python",
   "pygments_lexer": "ipython3",
   "version": "3.12.9"
  }
 },
 "nbformat": 4,
 "nbformat_minor": 5
}
