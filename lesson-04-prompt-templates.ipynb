{
 "cells": [
  {
   "cell_type": "markdown",
   "id": "7af09d3a-5065-4374-8175-3f206e1b3d64",
   "metadata": {},
   "source": [
    "# Prompt Templating and Chaining"
   ]
  },
  {
   "cell_type": "markdown",
   "id": "e38b450f-959f-4846-80af-df647f25373c",
   "metadata": {},
   "source": [
    "## Reproducible way to generate a prompt"
   ]
  },
  {
   "cell_type": "code",
   "execution_count": 1,
   "id": "71f3e906-c78c-4c9c-9e72-0921677a4226",
   "metadata": {},
   "outputs": [],
   "source": [
    "import os"
   ]
  },
  {
   "cell_type": "code",
   "execution_count": 16,
   "id": "3d8c5258-388c-4fd2-90bd-15908edf65b0",
   "metadata": {},
   "outputs": [],
   "source": [
    "os.environ[\"OPENAI_API_KEY\"] = \"...\""
   ]
  },
  {
   "cell_type": "code",
   "execution_count": 3,
   "id": "61d23fe3-e9db-4d50-897e-4ff30650ab63",
   "metadata": {},
   "outputs": [],
   "source": [
    "from langchain import PromptTemplate\n",
    "from langchain.llms import OpenAI\n",
    "from langchain.chains import LLMChain"
   ]
  },
  {
   "cell_type": "markdown",
   "id": "8a84892c-ba0d-46c9-b4d4-ff09a69c60f8",
   "metadata": {},
   "source": [
    "### Define LLM"
   ]
  },
  {
   "cell_type": "code",
   "execution_count": 4,
   "id": "074aacc9-386f-4b58-9b5e-4ed20f89bd67",
   "metadata": {},
   "outputs": [
    {
     "name": "stderr",
     "output_type": "stream",
     "text": [
      "/tmp/ipykernel_674969/3884823774.py:1: LangChainDeprecationWarning: The class `OpenAI` was deprecated in LangChain 0.0.10 and will be removed in 1.0. An updated version of the class exists in the :class:`~langchain-openai package and should be used instead. To use it run `pip install -U :class:`~langchain-openai` and import as `from :class:`~langchain_openai import OpenAI``.\n",
      "  llm = OpenAI(temperature=0.9)\n"
     ]
    }
   ],
   "source": [
    "llm = OpenAI(temperature=0.9)"
   ]
  },
  {
   "cell_type": "markdown",
   "id": "35905ebd-7d7f-43cb-9186-78f233d88cb6",
   "metadata": {},
   "source": [
    "### Template with one variable"
   ]
  },
  {
   "cell_type": "code",
   "execution_count": 5,
   "id": "5ad1f454-7f8a-4729-b210-b3079dab56c5",
   "metadata": {},
   "outputs": [],
   "source": [
    "template = \"You are a naming consultant for new companies. What is a good name for a company that makes {product}?\""
   ]
  },
  {
   "cell_type": "code",
   "execution_count": 6,
   "id": "e017c4c9-d1a1-4185-b4b7-c2269eb324a3",
   "metadata": {},
   "outputs": [],
   "source": [
    "prompt = PromptTemplate.from_template(template)"
   ]
  },
  {
   "cell_type": "code",
   "execution_count": 7,
   "id": "903c8323-1dee-49b7-9b1b-3ccc695702b7",
   "metadata": {},
   "outputs": [
    {
     "name": "stdout",
     "output_type": "stream",
     "text": [
      "You are a naming consultant for new companies. What is a good name for a company that makes colorful socks?\n"
     ]
    }
   ],
   "source": [
    "print(prompt.format(product = \"colorful socks\"))"
   ]
  },
  {
   "cell_type": "code",
   "execution_count": 8,
   "id": "b8f14939-bf9f-453b-aba5-758adbec4117",
   "metadata": {},
   "outputs": [
    {
     "name": "stderr",
     "output_type": "stream",
     "text": [
      "/tmp/ipykernel_674969/1305865249.py:1: LangChainDeprecationWarning: The class `LLMChain` was deprecated in LangChain 0.1.17 and will be removed in 1.0. Use :meth:`~RunnableSequence, e.g., `prompt | llm`` instead.\n",
      "  chain = LLMChain(llm=llm, prompt=prompt)\n"
     ]
    }
   ],
   "source": [
    "chain = LLMChain(llm=llm, prompt=prompt)"
   ]
  },
  {
   "cell_type": "code",
   "execution_count": 9,
   "id": "6033b113-588d-41bb-91c5-092d044e40c9",
   "metadata": {},
   "outputs": [
    {
     "name": "stderr",
     "output_type": "stream",
     "text": [
      "/tmp/ipykernel_674969/247628116.py:1: LangChainDeprecationWarning: The method `Chain.run` was deprecated in langchain 0.1.0 and will be removed in 1.0. Use :meth:`~invoke` instead.\n",
      "  print(chain.run({\"product\": \"colorful socks\"}))\n"
     ]
    },
    {
     "name": "stdout",
     "output_type": "stream",
     "text": [
      "\n",
      "\n",
      "\"Rainbow Toes\" \n"
     ]
    }
   ],
   "source": [
    "print(chain.run({\"product\": \"colorful socks\"}))"
   ]
  },
  {
   "cell_type": "code",
   "execution_count": 10,
   "id": "351f493a-54a7-4169-989b-2fe25569f497",
   "metadata": {},
   "outputs": [
    {
     "name": "stdout",
     "output_type": "stream",
     "text": [
      "\n",
      "\n",
      "\"Rainbow Threads\"\n"
     ]
    }
   ],
   "source": [
    "# This achieves the same thing as previous cell. Passing the string instead of dictionary\n",
    "print(chain.run(\"colorful socks\"))"
   ]
  },
  {
   "cell_type": "markdown",
   "id": "aee670fc-a7f8-4b08-8a64-01fda34498bb",
   "metadata": {},
   "source": [
    "### Template with multiple variables"
   ]
  },
  {
   "cell_type": "code",
   "execution_count": 11,
   "id": "5ece1993-cde0-48e5-8a44-f11b150a687d",
   "metadata": {},
   "outputs": [],
   "source": [
    "template = \"You are a naming consultant for new companies. What is a good name for a {company} that makes {product}?\""
   ]
  },
  {
   "cell_type": "code",
   "execution_count": 12,
   "id": "ca1efdb1-cb74-446a-a23a-56fee7ed9dfd",
   "metadata": {},
   "outputs": [],
   "source": [
    "prompt = PromptTemplate.from_template(template)"
   ]
  },
  {
   "cell_type": "code",
   "execution_count": 13,
   "id": "18d38261-daa3-4aaf-9acf-20f97fa689b2",
   "metadata": {},
   "outputs": [
    {
     "name": "stdout",
     "output_type": "stream",
     "text": [
      "You are a naming consultant for new companies. What is a good name for a Startup that makes colorful socks?\n"
     ]
    }
   ],
   "source": [
    "print(prompt.format(company = \"Startup\", product = \"colorful socks\"))"
   ]
  },
  {
   "cell_type": "code",
   "execution_count": 14,
   "id": "236f4d4a-db1d-479e-a587-bcbfba2231cd",
   "metadata": {},
   "outputs": [],
   "source": [
    "chain = LLMChain(llm=llm, prompt=prompt)"
   ]
  },
  {
   "cell_type": "code",
   "execution_count": 15,
   "id": "cede0b8b-fb51-4abb-8781-5c98e2ac8b70",
   "metadata": {},
   "outputs": [
    {
     "name": "stdout",
     "output_type": "stream",
     "text": [
      "\n",
      "\n",
      "RainbowSock Co. \n"
     ]
    }
   ],
   "source": [
    "print(chain.run({\"company\": \"ABC Startup\", \"product\": \"colorful socks\"}))"
   ]
  }
 ],
 "metadata": {
  "kernelspec": {
   "display_name": "Python [conda env:py3_ml] *",
   "language": "python",
   "name": "conda-env-py3_ml-py"
  },
  "language_info": {
   "codemirror_mode": {
    "name": "ipython",
    "version": 3
   },
   "file_extension": ".py",
   "mimetype": "text/x-python",
   "name": "python",
   "nbconvert_exporter": "python",
   "pygments_lexer": "ipython3",
   "version": "3.12.9"
  }
 },
 "nbformat": 4,
 "nbformat_minor": 5
}
